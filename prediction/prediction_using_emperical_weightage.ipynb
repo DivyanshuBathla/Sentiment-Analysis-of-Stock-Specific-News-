{
 "cells": [
  {
   "attachments": {},
   "cell_type": "markdown",
   "metadata": {},
   "source": [
    "finding accuraccy and recall"
   ]
  },
  {
   "cell_type": "code",
   "execution_count": 14,
   "metadata": {},
   "outputs": [],
   "source": [
    "\n",
    "import pandas as pd\n",
    "from sklearn.metrics import precision_score\n",
    "from sklearn.metrics import recall_score\n",
    "from sklearn.metrics import f1_score\n",
    "import matplotlib.pyplot as plt\n"
   ]
  },
  {
   "cell_type": "code",
   "execution_count": 15,
   "metadata": {},
   "outputs": [],
   "source": [
    "final=pd.read_csv('final_train_dataset.csv')\n",
    "final=final.dropna()"
   ]
  },
  {
   "cell_type": "code",
   "execution_count": 16,
   "metadata": {},
   "outputs": [],
   "source": [
    "comp=final.compound_score.values\n",
    "trend=final.trend.values"
   ]
  },
  {
   "cell_type": "code",
   "execution_count": 29,
   "metadata": {},
   "outputs": [
    {
     "data": {
      "text/plain": [
       "(5386, 32)"
      ]
     },
     "execution_count": 29,
     "metadata": {},
     "output_type": "execute_result"
    }
   ],
   "source": [
    "final.shape"
   ]
  },
  {
   "cell_type": "code",
   "execution_count": 17,
   "metadata": {},
   "outputs": [],
   "source": [
    "pre=[]\n",
    "for i in range(len(comp)):\n",
    "    if(comp[i]>0):\n",
    "        pre.append('bearish')\n",
    "    elif(comp[i]<0):\n",
    "        pre.append('bullish')\n",
    "    else:\n",
    "        pre.append('neutral')"
   ]
  },
  {
   "cell_type": "code",
   "execution_count": 18,
   "metadata": {},
   "outputs": [],
   "source": [
    "total=0\n",
    "crt=0\n",
    "cnt=0\n",
    "actual=[]\n",
    "predicted=[]\n",
    "for i in range(len(comp)):\n",
    "    if(pre[i]=='neutral'):\n",
    "        continue\n",
    "    elif(trend[i]==pre[i]):\n",
    "        if(trend[i]=='bullish'):\n",
    "            cnt=cnt+1\n",
    "        crt=crt+1\n",
    "        total=total+1\n",
    "        actual.append(trend[i])\n",
    "        predicted.append(pre[i])\n",
    "        \n",
    "    else:\n",
    "        actual.append(trend[i])\n",
    "        predicted.append(pre[i])\n",
    "        total=total+1\n"
   ]
  },
  {
   "cell_type": "code",
   "execution_count": 19,
   "metadata": {},
   "outputs": [],
   "source": [
    "from sklearn import metrics"
   ]
  },
  {
   "cell_type": "code",
   "execution_count": 20,
   "metadata": {},
   "outputs": [],
   "source": [
    "confusion_matrix = metrics.confusion_matrix(actual, predicted)"
   ]
  },
  {
   "cell_type": "code",
   "execution_count": 21,
   "metadata": {},
   "outputs": [],
   "source": [
    "cm_display = metrics.ConfusionMatrixDisplay(confusion_matrix = confusion_matrix, display_labels = [\"Bearish\",\"Bullish\"])"
   ]
  },
  {
   "cell_type": "code",
   "execution_count": 22,
   "metadata": {},
   "outputs": [
    {
     "data": {
      "text/plain": [
       "346"
      ]
     },
     "execution_count": 22,
     "metadata": {},
     "output_type": "execute_result"
    }
   ],
   "source": [
    "cnt"
   ]
  },
  {
   "cell_type": "code",
   "execution_count": 23,
   "metadata": {},
   "outputs": [
    {
     "data": {
      "image/png": "[encoded data removed]",
      "text/plain": [
       "<Figure size 640x480 with 2 Axes>"
      ]
     },
     "metadata": {},
     "output_type": "display_data"
    }
   ],
   "source": [
    "cm_display.plot()\n",
    "plt.show()"
   ]
  },
  {
   "cell_type": "code",
   "execution_count": 24,
   "metadata": {},
   "outputs": [],
   "source": [
    "precision=(precision_score(actual,predicted, average='binary',pos_label=\"bullish\"))\n",
    "recall=(recall_score(actual,predicted, average='binary',pos_label=\"bullish\"))\n",
    "\n"
   ]
  },
  {
   "cell_type": "code",
   "execution_count": 25,
   "metadata": {},
   "outputs": [
    {
     "name": "stdout",
     "output_type": "stream",
     "text": [
      "precision(bullish)= 0.4942857142857143\n",
      "recall(bullish)= 0.1905286343612335\n"
     ]
    }
   ],
   "source": [
    "print(\"precision(bullish)=\",precision)\n",
    "print(\"recall(bullish)=\",recall)\n"
   ]
  },
  {
   "cell_type": "code",
   "execution_count": 26,
   "metadata": {},
   "outputs": [],
   "source": [
    "precision=(precision_score(actual,predicted, average='binary',pos_label=\"bearish\"))\n",
    "recall=(recall_score(actual,predicted, average='binary',pos_label=\"bearish\"))\n",
    "\n"
   ]
  },
  {
   "cell_type": "code",
   "execution_count": 27,
   "metadata": {},
   "outputs": [
    {
     "name": "stdout",
     "output_type": "stream",
     "text": [
      "precision(bearish)= 0.5093457943925234\n",
      "recall(bearish)= 0.8117021276595745\n"
     ]
    }
   ],
   "source": [
    "print(\"precision(bearish)=\",precision)\n",
    "print(\"recall(bearish)=\",recall)\n"
   ]
  },
  {
   "cell_type": "code",
   "execution_count": null,
   "metadata": {},
   "outputs": [],
   "source": []
  },
  {
   "cell_type": "code",
   "execution_count": null,
   "metadata": {},
   "outputs": [],
   "source": []
  },
  {
   "cell_type": "code",
   "execution_count": null,
   "metadata": {},
   "outputs": [],
   "source": []
  }
 ],
 "metadata": {
  "kernelspec": {
   "display_name": "base",
   "language": "python",
   "name": "python3"
  },
  "language_info": {
   "codemirror_mode": {
    "name": "ipython",
    "version": 3
   },
   "file_extension": ".py",
   "mimetype": "text/x-python",
   "name": "python",
   "nbconvert_exporter": "python",
   "pygments_lexer": "ipython3",
   "version": "3.9.7"
  },
  "orig_nbformat": 4,
  "vscode": {
   "interpreter": {
    "hash": "ad2bdc8ecc057115af97d19610ffacc2b4e99fae6737bb82f5d7fb13d2f2c186"
   }
  }
 },
 "nbformat": 4,
 "nbformat_minor": 2
}
